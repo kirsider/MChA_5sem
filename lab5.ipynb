{
 "cells": [
  {
   "cell_type": "markdown",
   "metadata": {},
   "source": [
    "# Лабораторная работа №5\n",
    "\n",
    "## Метод сеток решения волнового уравнения\n",
    "\n",
    "### Вариант 19\n",
    "\n",
    "***Задание 1.*** Рассчитать колебания $u(x,t)$. \n",
    "\n",
    "Продольные колебания $u(x,t)$ тяги описываются уравнением\n",
    "$$ \\frac{\\partial^2u}{\\partial t^2} - \\frac{\\rho}{E}\\frac{\\partial^2u}{\\partial x^2}, 0<x<L, $$\n",
    "$$ u(0,t)=0, u(L,t)=0, 0 \\le t \\lt T,$$\n",
    "\n",
    "где $E$ - модуль упругости; $\\rho$ - плотность материала стержня.\n",
    "\n",
    "Тяга имеет длину $L$ и закреплена на концах. Захватив тягу в центре, ее деформируют так, что продольное перемещение становиться равным $\\Delta u$:\n",
    "$$u(x,0) = -\\frac{\\rho}{E}\\frac{\\partial^2u}{\\partial x^2}$$\n",
    "Затем тяга освобождается.\n",
    "\n",
    "Рассчитайте колебания $u(x,t)$ при заданных параметрах.\n",
    "\n",
    "***Задание 2.*** Рассчитать колебания тонкой пластины\n",
    "\n",
    "Колебания тонкой пластины без учета потерь на трение описываются нормированным волновым уравнением вида \n",
    "\n",
    "$$ \\frac{\\partial^2u}{\\partial t^2} - (\\frac{\\partial^2u}{\\partial x^2} + \\frac{\\partial^2u}{\\partial y^2}), $$\n",
    "\n",
    "где $u(x,y,t)$ - деформация пластины; $x, y$ - координаты; $t$ - время.\n",
    "\n",
    "Рассчитать колебания пластины при заданных размерах $a$ и $b$, граничных $\\Gamma_1, \\Gamma_2, \\Gamma_3, \\Gamma_4$, и начальных $u(x,y,0)$ и $\\frac{\\partial u(x,y,0)}{\\partial t}$ условиях."
   ]
  },
  {
   "cell_type": "markdown",
   "metadata": {},
   "source": [
    "### Задание 1"
   ]
  },
  {
   "cell_type": "code",
   "execution_count": 1,
   "metadata": {},
   "outputs": [],
   "source": [
    "# importing necessary libraries\n",
    "\n",
    "import numpy as np\n",
    "import scipy as sp\n",
    "from scipy.misc import derivative \n",
    "from scipy import sparse\n",
    "from scipy import integrate\n",
    "import matplotlib.pyplot as plt"
   ]
  },
  {
   "cell_type": "code",
   "execution_count": 4,
   "metadata": {},
   "outputs": [],
   "source": [
    "# variant 19 -> 19 mod 6 + 1 = 2\n",
    "\n",
    "L = 18\n",
    "u = 0.2\n",
    "E = 120e9\n",
    "rho = 5.9e3\n"
   ]
  },
  {
   "cell_type": "code",
   "execution_count": null,
   "metadata": {},
   "outputs": [],
   "source": []
  }
 ],
 "metadata": {
  "kernelspec": {
   "display_name": "Python 3",
   "language": "python",
   "name": "python3"
  },
  "language_info": {
   "codemirror_mode": {
    "name": "ipython",
    "version": 3
   },
   "file_extension": ".py",
   "mimetype": "text/x-python",
   "name": "python",
   "nbconvert_exporter": "python",
   "pygments_lexer": "ipython3",
   "version": "3.7.3"
  }
 },
 "nbformat": 4,
 "nbformat_minor": 2
}
