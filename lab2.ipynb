{
 "cells": [
  {
   "cell_type": "markdown",
   "metadata": {},
   "source": [
    "# Лабораторная работа №2\n",
    "## Решение краевых задач. Методы коллокаций, наименьших квадратов и Галеркина\n",
    "### Вариант 19\n",
    "*Задание.* Методами коллакаций, интегральным и дискретным методами наименьших квадратов и Галеркина получить численное решение краевой задачи.\n",
    "\n",
    "- $y''+(1+x^2)y=-1,   -1\\le x\\le 1,    y(-1)=y(1)=0$\n",
    "\n",
    "- $ay''+(1+bx^2)y=-1,    -1\\le x\\le 1,   y(-1)=y(1)=0, a=sin(19), b=cos(19)$\n",
    "\n",
    "Базисную систему выбрать в виде:\n",
    "\n",
    "$\\phi_i(x)=x^i(1-x^2), i=0,1,2,...$"
   ]
  },
  {
   "cell_type": "markdown",
   "metadata": {},
   "source": [
    "#### Метод коллокаций"
   ]
  },
  {
   "cell_type": "code",
   "execution_count": 589,
   "metadata": {},
   "outputs": [],
   "source": [
    "# importing necessary libraries\n",
    "\n",
    "import numpy as np\n",
    "import scipy as sp\n",
    "from scipy.misc import derivative \n",
    "from scipy import sparse\n",
    "from scipy import integrate\n",
    "import matplotlib.pyplot as plt"
   ]
  },
  {
   "cell_type": "code",
   "execution_count": 706,
   "metadata": {},
   "outputs": [],
   "source": [
    "# variant number and initial conditions\n",
    "\n",
    "K = 19\n",
    "a = -1\n",
    "b = 1\n",
    "n = 100"
   ]
  },
  {
   "cell_type": "code",
   "execution_count": 556,
   "metadata": {},
   "outputs": [
    {
     "data": {
      "text/plain": [
       "6.0"
      ]
     },
     "execution_count": 556,
     "metadata": {},
     "output_type": "execute_result"
    }
   ],
   "source": [
    "# базисная функция и ее первая и вторая производные\n",
    "\n",
    "def basic_func(x, i, deriv=0):\n",
    "    if deriv == 0:\n",
    "        return x**i * (1 - x * x)\n",
    "    elif deriv == 1:\n",
    "        return x**(i - 1) * (i - x * (i + 1))\n",
    "    elif deriv == 2:\n",
    "        if i == 0:\n",
    "            return -2\n",
    "        elif i == 1:\n",
    "            return -6. * x\n",
    "        elif i == 2:\n",
    "            return 2 - 12*x*x\n",
    "        return x**(i-2) * ((i*i-i) - x*x * (i+1) * (i+2))"
   ]
  },
  {
   "cell_type": "code",
   "execution_count": 557,
   "metadata": {},
   "outputs": [],
   "source": [
    "# получаем список значений базисных функций (или ее производных) в точке \"х\"\n",
    "\n",
    "def linear_comb(x, n, deriv=0):\n",
    "    res = []\n",
    "    for i in range(0, n):\n",
    "        res.append(basic_func(x, i, deriv))\n",
    "    return res"
   ]
  },
  {
   "cell_type": "code",
   "execution_count": 571,
   "metadata": {},
   "outputs": [],
   "source": [
    "def q(x, b=1.):\n",
    "    return 1. + b * x * x"
   ]
  },
  {
   "cell_type": "code",
   "execution_count": 572,
   "metadata": {},
   "outputs": [],
   "source": [
    "# коэффициенты при А(i)\n",
    "def psi(x, n, f, a=1.):\n",
    "    res = a * np.array(linear_comb(x, n, 2))\n",
    "    res += np.array(linear_comb(x, n, 0)) * f(x)\n",
    "    return res"
   ]
  },
  {
   "cell_type": "code",
   "execution_count": 573,
   "metadata": {},
   "outputs": [],
   "source": [
    "# точки коллокации\n",
    "\n",
    "X = np.linspace(a, b, n)"
   ]
  },
  {
   "cell_type": "code",
   "execution_count": 574,
   "metadata": {
    "scrolled": true
   },
   "outputs": [],
   "source": [
    "M = [psi(i, n, q) for i in X]"
   ]
  },
  {
   "cell_type": "code",
   "execution_count": 575,
   "metadata": {},
   "outputs": [],
   "source": [
    "A = np.linalg.solve(M, np.array([-1] * (n)))"
   ]
  },
  {
   "cell_type": "code",
   "execution_count": 576,
   "metadata": {},
   "outputs": [],
   "source": [
    "solution = []\n",
    "for x in X:\n",
    "    s = 0\n",
    "    for k, item in enumerate(A):\n",
    "        s += item * basic_func(x, k)\n",
    "    solution.append(s)"
   ]
  },
  {
   "cell_type": "code",
   "execution_count": 577,
   "metadata": {},
   "outputs": [
    {
     "data": {
      "text/plain": [
       "[<matplotlib.lines.Line2D at 0x23d29be1b00>]"
      ]
     },
     "execution_count": 577,
     "metadata": {},
     "output_type": "execute_result"
    },
    {
     "data": {
      "image/png": "[encoded data removed]",
      "text/plain": [
       "<Figure size 432x288 with 1 Axes>"
      ]
     },
     "metadata": {
      "needs_background": "light"
     },
     "output_type": "display_data"
    }
   ],
   "source": [
    "plt.plot(X, solution)"
   ]
  },
  {
   "cell_type": "code",
   "execution_count": 711,
   "metadata": {},
   "outputs": [],
   "source": [
    "# второе уравнение\n",
    "\n",
    "M2 = [psi(i, n, lambda x: 1 + np.cos(K)*x*x, a=np.sin(K)) for i in X]"
   ]
  },
  {
   "cell_type": "code",
   "execution_count": 712,
   "metadata": {},
   "outputs": [],
   "source": [
    "A2 = np.linalg.solve(M2, np.array([-1] * n))"
   ]
  },
  {
   "cell_type": "code",
   "execution_count": 713,
   "metadata": {},
   "outputs": [],
   "source": [
    "solution2 = []\n",
    "for x in X:\n",
    "    s = 0\n",
    "    for k, item in enumerate(A2):\n",
    "        s += item * basic_func(x, k)\n",
    "    solution2.append(s)"
   ]
  },
  {
   "cell_type": "code",
   "execution_count": 714,
   "metadata": {},
   "outputs": [
    {
     "data": {
      "text/plain": [
       "[<matplotlib.lines.Line2D at 0x23d2e044c88>]"
      ]
     },
     "execution_count": 714,
     "metadata": {},
     "output_type": "execute_result"
    },
    {
     "data": {
      "image/png": "[encoded data removed]",
      "text/plain": [
       "<Figure size 432x288 with 1 Axes>"
      ]
     },
     "metadata": {
      "needs_background": "light"
     },
     "output_type": "display_data"
    }
   ],
   "source": [
    "plt.plot(X, solution2)"
   ]
  },
  {
   "cell_type": "markdown",
   "metadata": {},
   "source": [
    "#### Интегральный метод наименьших квадратов"
   ]
  },
  {
   "cell_type": "code",
   "execution_count": 715,
   "metadata": {},
   "outputs": [
    {
     "name": "stdout",
     "output_type": "stream",
     "text": [
      "20\n"
     ]
    }
   ],
   "source": [
    "n=20\n",
    "M = [[integrate.quad(\n",
    "    lambda x:\n",
    "    (basic_func(x, j, 2) + q(x)*basic_func(x, j, 0))*\\\n",
    "    (basic_func(x, i, 2) + q(x)*basic_func(x, i, 0)), a, b)[0]\n",
    "      for j in range(n)] for i in range(n)]\n",
    "print(len(M))"
   ]
  },
  {
   "cell_type": "code",
   "execution_count": 716,
   "metadata": {},
   "outputs": [
    {
     "data": {
      "text/plain": [
       "20"
      ]
     },
     "execution_count": 716,
     "metadata": {},
     "output_type": "execute_result"
    }
   ],
   "source": [
    "B = [integrate.quad(lambda x: -1 * ( basic_func(x, i, 2) + q(x)*basic_func(x, i, 0)), a, b)[0] \n",
    "      for i in range(n) ]\n",
    "len(B)"
   ]
  },
  {
   "cell_type": "code",
   "execution_count": 717,
   "metadata": {},
   "outputs": [],
   "source": [
    "A = np.linalg.solve(M, B)"
   ]
  },
  {
   "cell_type": "code",
   "execution_count": 718,
   "metadata": {},
   "outputs": [],
   "source": [
    "solution = []\n",
    "for x in X:\n",
    "    s = 0\n",
    "    for k, item in enumerate(A):\n",
    "        s += item * basic_func(x, k)\n",
    "    solution.append(s)"
   ]
  },
  {
   "cell_type": "code",
   "execution_count": 719,
   "metadata": {},
   "outputs": [
    {
     "data": {
      "text/plain": [
       "[<matplotlib.lines.Line2D at 0x23d2e0b1278>]"
      ]
     },
     "execution_count": 719,
     "metadata": {},
     "output_type": "execute_result"
    },
    {
     "data": {
      "image/png": "[encoded data removed]",
      "text/plain": [
       "<Figure size 432x288 with 1 Axes>"
      ]
     },
     "metadata": {
      "needs_background": "light"
     },
     "output_type": "display_data"
    }
   ],
   "source": [
    "plt.plot(X, solution)"
   ]
  },
  {
   "cell_type": "code",
   "execution_count": 735,
   "metadata": {},
   "outputs": [],
   "source": [
    "# второе уравнение\n",
    "\n",
    "M2 = [[integrate.quad(\n",
    "    lambda x:\n",
    "    (np.sin(K)*basic_func(x, j, 2) + q(x, np.cos(K))*basic_func(x, j, 0))*\\\n",
    "    (np.sin(K)*basic_func(x, i, 2) + q(x, np.cos(K))*basic_func(x, i, 0)), a, b)[0]\n",
    "      for j in range(n)] for i in range(n)]"
   ]
  },
  {
   "cell_type": "code",
   "execution_count": 736,
   "metadata": {},
   "outputs": [],
   "source": [
    "B2 = [integrate.quad(lambda x: -1 * (np.sin(K)* basic_func(x, i, 2) + q(x, np.cos(K))*basic_func(x, i, 0)), a, b)[0] \n",
    "      for i in range(n) ]"
   ]
  },
  {
   "cell_type": "code",
   "execution_count": 737,
   "metadata": {},
   "outputs": [],
   "source": [
    "A2 = np.linalg.solve(M2, B2)"
   ]
  },
  {
   "cell_type": "code",
   "execution_count": 738,
   "metadata": {},
   "outputs": [],
   "source": [
    "solution2 =  []\n",
    "for x in X:\n",
    "    s = 0\n",
    "    for k, item in enumerate(A2):\n",
    "        s += item * basic_func(x, k)\n",
    "    solution2.append(s)"
   ]
  },
  {
   "cell_type": "code",
   "execution_count": 739,
   "metadata": {},
   "outputs": [
    {
     "data": {
      "text/plain": [
       "[<matplotlib.lines.Line2D at 0x23d2e2330f0>]"
      ]
     },
     "execution_count": 739,
     "metadata": {},
     "output_type": "execute_result"
    },
    {
     "data": {
      "image/png": "[encoded data removed]",
      "text/plain": [
       "<Figure size 432x288 with 1 Axes>"
      ]
     },
     "metadata": {
      "needs_background": "light"
     },
     "output_type": "display_data"
    }
   ],
   "source": [
    "plt.plot(X, solution2)"
   ]
  },
  {
   "cell_type": "markdown",
   "metadata": {},
   "source": [
    "#### Дискретный метод наименьших квадратов"
   ]
  },
  {
   "cell_type": "code",
   "execution_count": 909,
   "metadata": {},
   "outputs": [],
   "source": [
    "n = 100\n",
    "N = 4 * n\n",
    "XN = np.linspace(a, b, N)\n",
    "M = [[0. for i in range(n)] for j in range(n)]\n",
    "\n",
    "help_matrix = [[(basic_func(x, i, 2) + q(x)*basic_func(x, i, 0)) for x in XN] for i in range(n)]\n"
   ]
  },
  {
   "cell_type": "code",
   "execution_count": 910,
   "metadata": {},
   "outputs": [],
   "source": [
    "\n",
    "ind1, ind2, ind3 = 0, 0, 0\n",
    "while ind1 < n:\n",
    "    ind2 = 0\n",
    "    while ind2 <= ind1:\n",
    "        ind3 = 0\n",
    "        while ind3 < N:\n",
    "            M[ind1][ind2] += help_matrix[ind2][ind3]*help_matrix[ind1][ind3]\n",
    "            ind3 += 1\n",
    "        \n",
    "        ind2 += 1\n",
    "    ind1 += 1\n",
    "\n",
    "\n",
    "for i in range(n):\n",
    "    for j in range(n):\n",
    "        M[i][j] = M[j][i]"
   ]
  },
  {
   "cell_type": "code",
   "execution_count": 888,
   "metadata": {},
   "outputs": [],
   "source": [
    "B = []\n",
    "for i in range(n):\n",
    "    s = 0\n",
    "    for x in XN:\n",
    "        s += -1 * ( basic_func(x, i, 2) + q(x)*basic_func(x, i, 0))\n",
    "    B.append(s)"
   ]
  },
  {
   "cell_type": "code",
   "execution_count": 889,
   "metadata": {},
   "outputs": [],
   "source": [
    "A = np.linalg.solve(M, B)"
   ]
  },
  {
   "cell_type": "code",
   "execution_count": 890,
   "metadata": {},
   "outputs": [],
   "source": [
    "solution = []\n",
    "for x in X:\n",
    "    s = 0\n",
    "    for k, item in enumerate(A):\n",
    "        s += item * basic_func(x, k)\n",
    "    solution.append(s)"
   ]
  },
  {
   "cell_type": "code",
   "execution_count": 891,
   "metadata": {},
   "outputs": [
    {
     "data": {
      "text/plain": [
       "[<matplotlib.lines.Line2D at 0x23d2e79bd68>]"
      ]
     },
     "execution_count": 891,
     "metadata": {},
     "output_type": "execute_result"
    },
    {
     "data": {
      "image/png": "[encoded data removed]",
      "text/plain": [
       "<Figure size 432x288 with 1 Axes>"
      ]
     },
     "metadata": {
      "needs_background": "light"
     },
     "output_type": "display_data"
    }
   ],
   "source": [
    "plt.plot(X, solution)"
   ]
  },
  {
   "cell_type": "code",
   "execution_count": 924,
   "metadata": {},
   "outputs": [],
   "source": [
    "# второе уравнение\n",
    "\n",
    "M2 = [[0. for i in range(n)] for j in range(n)]\n",
    "\n",
    "help_matrix2 = [[(np.sin(K)*basic_func(x, i, 2) + q(x, np.cos(K))*basic_func(x, i, 0)) for x in XN] for i in range(n)]\n"
   ]
  },
  {
   "cell_type": "code",
   "execution_count": 930,
   "metadata": {},
   "outputs": [
    {
     "name": "stdout",
     "output_type": "stream",
     "text": [
      "Wall time: 1.04 s\n"
     ]
    }
   ],
   "source": [
    "%%time\n",
    "ind1, ind2, ind3 = 0, 0, 0\n",
    "while ind1 < n:\n",
    "    ind2 = 0\n",
    "    while ind2 <= ind1:\n",
    "        ind3 = 0\n",
    "        while ind3 < N:\n",
    "            M2[ind1][ind2] += help_matrix2[ind2][ind3]*help_matrix2[ind1][ind3]\n",
    "            ind3 += 1\n",
    "        \n",
    "        ind2 += 1\n",
    "    ind1 += 1\n",
    "\n",
    "\n",
    "for i in range(n):\n",
    "    for j in range(n):\n",
    "        M2[i][j] = M2[j][i]"
   ]
  },
  {
   "cell_type": "code",
   "execution_count": 926,
   "metadata": {},
   "outputs": [],
   "source": [
    "B2 = []\n",
    "for i in range(n):\n",
    "    s = 0\n",
    "    for x in XN:\n",
    "        s += -1 * (np.sin(K)* basic_func(x, i, 2) + q(x, np.cos(K))*basic_func(x, i, 0))\n",
    "    B2.append(s)"
   ]
  },
  {
   "cell_type": "code",
   "execution_count": 927,
   "metadata": {},
   "outputs": [],
   "source": [
    "A2 = np.linalg.solve(M2, B2)"
   ]
  },
  {
   "cell_type": "code",
   "execution_count": 928,
   "metadata": {},
   "outputs": [],
   "source": [
    "solution2 = []\n",
    "for x in X:\n",
    "    s = 0\n",
    "    for k, item in enumerate(A2):\n",
    "        s += item * basic_func(x, k)\n",
    "    solution2.append(s)"
   ]
  },
  {
   "cell_type": "code",
   "execution_count": 929,
   "metadata": {},
   "outputs": [
    {
     "data": {
      "text/plain": [
       "[<matplotlib.lines.Line2D at 0x23d2ecfd860>]"
      ]
     },
     "execution_count": 929,
     "metadata": {},
     "output_type": "execute_result"
    },
    {
     "data": {
      "image/png": "[encoded data removed]",
      "text/plain": [
       "<Figure size 432x288 with 1 Axes>"
      ]
     },
     "metadata": {
      "needs_background": "light"
     },
     "output_type": "display_data"
    }
   ],
   "source": [
    "plt.plot(X, solution2)"
   ]
  },
  {
   "cell_type": "markdown",
   "metadata": {},
   "source": [
    "#### Метод Галеркина"
   ]
  },
  {
   "cell_type": "code",
   "execution_count": null,
   "metadata": {},
   "outputs": [],
   "source": []
  }
 ],
 "metadata": {
  "kernelspec": {
   "display_name": "Python 3",
   "language": "python",
   "name": "python3"
  },
  "language_info": {
   "codemirror_mode": {
    "name": "ipython",
    "version": 3
   },
   "file_extension": ".py",
   "mimetype": "text/x-python",
   "name": "python",
   "nbconvert_exporter": "python",
   "pygments_lexer": "ipython3",
   "version": "3.7.3"
  }
 },
 "nbformat": 4,
 "nbformat_minor": 2
}
